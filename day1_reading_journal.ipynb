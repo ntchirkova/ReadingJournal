{
 "cells": [
  {
   "cell_type": "markdown",
   "metadata": {},
   "source": [
    "# Day 1 Reading Journal\n",
    "\n",
    "Hi everyone.  These are the exercises for the first set of readings from ThinkPython.  While this journal consists of several required exercises, it is meant to encourage active reading more generally.  You should use this journal to take detailed notes, catalog questions, and explore the content from ThinkPython deeply.\n",
    "\n",
    "For more information on using the Jupyter notebook, check out the documentation [here](https://www.datacamp.com/community/tutorials/tutorial-jupyter-notebook##UseJupyter).\n",
    "\n",
    "Additionally, in order to write text in this document, you will be making use of Markdown cells. A handy cheatsheet for Markdown is available [here](https://github.com/adam-p/markdown-here/wiki/Markdown-Cheatsheet)."
   ]
  },
  {
   "cell_type": "markdown",
   "metadata": {},
   "source": [
    "## Chapter 1\n",
    "\n",
    "Note: the exercise numbers below match up with the reading for ease of cross referencing."
   ]
  },
  {
   "cell_type": "markdown",
   "metadata": {},
   "source": [
    "### Exercise 1.2 \n",
    "\n",
    "Start the Python interpreter and use it as a calculator. Python’s syntax for math operations is almost the same as standard mathematical notation. For example, the symbols +, - and / denote addition, subtraction and division, as you would expect. The symbol for multiplication is *.\n",
    "\n",
    "* How many seconds are there in 42 minutes 42 seconds? \n",
    "* How many miles are there in 10 kilometers? Hint: there are 1.61 kilometers in a mile. \n",
    "* If you run a 10 kilometer race in 42 minutes 42 seconds, what is your average pace (time per mile in minutes and seconds)?What is your average speed in miles per hour? "
   ]
  },
  {
   "cell_type": "code",
   "execution_count": null,
   "metadata": {
    "collapsed": false
   },
   "outputs": [],
   "source": [
    "-I am using IDLE as the python interpreter and am not sure I am supposed to\n",
    "- Also not sure where I am supposed to type answers (shold I include code?)\n",
    "\n",
    "* How many seconds are there in 42 minutes 42 seconds? \n",
    "    2562 seconds\n",
    "* How many miles are there in 10 kilometers? Hint: there are 1.61 kilometers in a mile. \n",
    "    6.211180124223602 miles\n",
    "* If you run a 10 kilometer race in 42 minutes 42 seconds, what is your average pace (time per mile in minutes and seconds)?\n",
    "    412.482 seconds per mile and 6.874700000000001 minutes per mile. \n",
    "* What is your average speed in miles per hour? \n",
    "    8.727653570337614 mph"
   ]
  },
  {
   "cell_type": "markdown",
   "metadata": {},
   "source": [
    "## Chapter 2"
   ]
  },
  {
   "cell_type": "markdown",
   "metadata": {},
   "source": [
    "### Exercise\n",
    "\n",
    "Assume that we execute the following assignment statements:\n",
    "\n",
    "```\n",
    "width = 17\n",
    "height = 12.0\n",
    "delimiter = '.'\n",
    "```\n",
    "\n",
    "For each of the following expressions, write the value of the expression and the type (of the value of the expression).\n",
    "\n",
    "1. `width/2`\n",
    "2. `width/2.0`\n",
    "3. `height/3`\n",
    "4. `1 + 2 * 5`\n",
    "5. `delimiter * 5`\n",
    "\n",
    "Please use the following markdown cell to provide your answer."
   ]
  },
  {
   "cell_type": "markdown",
   "metadata": {},
   "source": [
    "1. 8.5\n",
    "2. 8.5\n",
    "3. 4.0\n",
    "4. 11\n",
    "5. '.....'\n",
    "\n",
    "- seeing some similarities and differences with Java\n",
    "- ints can turn into doubles but a double will stay a double"
   ]
  },
  {
   "cell_type": "markdown",
   "metadata": {},
   "source": [
    "### Exercise 2\n",
    "\n",
    "Practice using the Python interpreter as a calculator.  For each of these provide Python code that computes each answer."
   ]
  },
  {
   "cell_type": "markdown",
   "metadata": {},
   "source": [
    "The volume of a sphere with radius r is 4/3 $\\pi r^3$. What is the volume of a sphere with radius 5? Hint: 392.7 is wrong!"
   ]
  },
  {
   "cell_type": "code",
   "execution_count": null,
   "metadata": {
    "collapsed": true
   },
   "outputs": [],
   "source": [
    ">>> 4/3*(math.pi)*(5^3)\n",
    "25.132741228718345\n",
    "\n",
    "#I imported math (I hope this is ok)"
   ]
  },
  {
   "cell_type": "markdown",
   "metadata": {},
   "source": [
    "Suppose the cover price of a book is \\$24.95, but bookstores get a 40% discount. Shipping costs \\$3 for the first copy and 75 cents for each additional copy. What is the total wholesale cost for 60 copies?"
   ]
  },
  {
   "cell_type": "code",
   "execution_count": null,
   "metadata": {
    "collapsed": true
   },
   "outputs": [],
   "source": [
    ">>> book = 24.95 * .6\n",
    ">>> book * 60 + 3 + .75 * 59\n",
    "945.4499999999999"
   ]
  },
  {
   "cell_type": "markdown",
   "metadata": {},
   "source": [
    "If I leave my house at 6:52 am and run 1 mile at an easy pace (8:15 per mile), then 3 miles at tempo (7:12 per mile) and 1 mile at easy pace again, what time do I get home for breakfast? "
   ]
  },
  {
   "cell_type": "markdown",
   "metadata": {},
   "source": [
    ">>> easy = 8.25\n",
    ">>> fast = 7.2\n",
    ">>> mins = easy*2 + fast * 3\n",
    ">>> mins + 52\n",
    "90.1\n",
    ">>> 90.1 - 60\n",
    "30.099999999999994\n",
    ">>> .1 * 60\n",
    "6.0\n",
    "\n",
    "#arrive at home 7:30:06"
   ]
  },
  {
   "cell_type": "markdown",
   "metadata": {},
   "source": [
    "## Chapter 3"
   ]
  },
  {
   "cell_type": "markdown",
   "metadata": {},
   "source": [
    "### Exercise 1\n",
    "\n",
    "Write a function named `right_justify` that takes a string named s as a parameter and prints the string with enough leading spaces so that the last letter of the string is in column 70 of the display.\n",
    "\n",
    "```\n",
    ">>> right_justify('monty')\n",
    "                                                                 monty\n",
    "```\n",
    "Hint: Use string concatenation and repetition. Also, Python provides a built-in function called `len` that returns the length of a string, so the value of `len('monty')` is 5."
   ]
  },
  {
   "cell_type": "code",
   "execution_count": null,
   "metadata": {
    "collapsed": true
   },
   "outputs": [],
   "source": [
    "def right_justify(word):\n",
    "    spaces = 70 - len('word')\n",
    "    print(' ' * spaces + word)\n",
    "    \n",
    ">>> \n",
    ">>> right_justify('monty')\n",
    "                                                                  monty\n",
    ">>> "
   ]
  },
  {
   "cell_type": "markdown",
   "metadata": {},
   "source": [
    "### Exercise 5\n",
    "\n",
    "Note: This exercise should be done using only the statements and other features we have learned so far.\n",
    "\n",
    "Write a function that draws a grid like the following:\n",
    "\n",
    "```\n",
    "+ - - - - + - - - - +\n",
    "|         |         |\n",
    "|         |         |\n",
    "|         |         |\n",
    "|         |         |\n",
    "+ - - - - + - - - - +\n",
    "|         |         |\n",
    "|         |         |\n",
    "|         |         |\n",
    "|         |         |\n",
    "+ - - - - + - - - - +\n",
    "```\n",
    "\n",
    "*Hint*: to print more than one value on a line, you can print a comma-separated sequence of values:\n",
    "\n",
    "```\n",
    "print('+', '-')\n",
    "```\n",
    "\n",
    "By default, `print` advances to the next line, but you can override that behavior and put a space at the end, like this:\n",
    "\n",
    "```\n",
    "print('+', end=' ')\n",
    "print('-')\n",
    "```\n",
    "\n",
    "The output of these statements is '+ -'.\n",
    "\n",
    "A `print` statement with no argument ends the current line and goes to the next line."
   ]
  },
  {
   "cell_type": "code",
   "execution_count": null,
   "metadata": {
    "collapsed": true
   },
   "outputs": [],
   "source": [
    "def window():\n",
    "    print('+ ' + '- ' * 5 + '+ ' + '- ' * 5 + '+')\n",
    "    print('|' + ' '*11 + '|' + ' '*11 + '|')\n",
    "    print('|' + ' '*11 + '|' + ' '*11 + '|')\n",
    "    print('|' + ' '*11 + '|' + ' '*11 + '|')\n",
    "    print('|' + ' '*11 + '|' + ' '*11 + '|')\n",
    "    print('+ ' + '- ' * 5 + '+ ' + '- ' * 5 + '+')\n",
    "    print('|' + ' '*11 + '|' + ' '*11 + '|')\n",
    "    print('|' + ' '*11 + '|' + ' '*11 + '|')\n",
    "    print('|' + ' '*11 + '|' + ' '*11 + '|')\n",
    "    print('|' + ' '*11 + '|' + ' '*11 + '|')\n",
    "    print('+ ' + '- ' * 5 + '+ ' + '- ' * 5 + '+')\n",
    "\n",
    ">>> window()\n",
    "+ - - - - - + - - - - - +\n",
    "|           |           |\n",
    "|           |           |\n",
    "|           |           |\n",
    "|           |           |\n",
    "+ - - - - - + - - - - - +\n",
    "|           |           |\n",
    "|           |           |\n",
    "|           |           |\n",
    "|           |           |\n",
    "+ - - - - - + - - - - - +\n",
    ">>> \n",
    "\n",
    "#very tempted to use loop but did not to follow the rules"
   ]
  },
  {
   "cell_type": "markdown",
   "metadata": {},
   "source": [
    "(b) Write a function that draws a similar grid with four rows and four columns."
   ]
  },
  {
   "cell_type": "code",
   "execution_count": null,
   "metadata": {
    "collapsed": true
   },
   "outputs": [],
   "source": [
    "def window2():\n",
    "    print('+ ' + '- ' * 4 + '+ ' + '- ' * 4 + '+ ' + '- ' * 4 + '+ ' + '- ' * 4 + '+')\n",
    "    print('|' + ' '*9 + '|' + ' '*9 + '|' + ' '*9 + '|' + ' '*9 + '|')\n",
    "    print('|' + ' '*9 + '|' + ' '*9 + '|' + ' '*9 + '|' + ' '*9 + '|')\n",
    "    print('|' + ' '*9 + '|' + ' '*9 + '|' + ' '*9 + '|' + ' '*9 + '|')\n",
    "    print('|' + ' '*9 + '|' + ' '*9 + '|' + ' '*9 + '|' + ' '*9 + '|')\n",
    "    print('+ ' + '- ' * 4 + '+ ' + '- ' * 4 + '+ ' + '- ' * 4 + '+ ' + '- ' * 4 + '+')\n",
    "    print('|' + ' '*9 + '|' + ' '*9 + '|' + ' '*9 + '|' + ' '*9 + '|')\n",
    "    print('|' + ' '*9 + '|' + ' '*9 + '|' + ' '*9 + '|' + ' '*9 + '|')\n",
    "    print('|' + ' '*9 + '|' + ' '*9 + '|' + ' '*9 + '|' + ' '*9 + '|')\n",
    "    print('|' + ' '*9 + '|' + ' '*9 + '|' + ' '*9 + '|' + ' '*9 + '|')\n",
    "    print('+ ' + '- ' * 4 + '+ ' + '- ' * 4 + '+ ' + '- ' * 4 + '+ ' + '- ' * 4 + '+')\n",
    "    print('|' + ' '*9 + '|' + ' '*9 + '|' + ' '*9 + '|' + ' '*9 + '|')\n",
    "    print('|' + ' '*9 + '|' + ' '*9 + '|' + ' '*9 + '|' + ' '*9 + '|')\n",
    "    print('|' + ' '*9 + '|' + ' '*9 + '|' + ' '*9 + '|' + ' '*9 + '|')\n",
    "    print('|' + ' '*9 + '|' + ' '*9 + '|' + ' '*9 + '|' + ' '*9 + '|')\n",
    "    print('+ ' + '- ' * 4 + '+ ' + '- ' * 4 + '+ ' + '- ' * 4 + '+ ' + '- ' * 4 + '+')\n",
    "    print('|' + ' '*9 + '|' + ' '*9 + '|' + ' '*9 + '|' + ' '*9 + '|')\n",
    "    print('|' + ' '*9 + '|' + ' '*9 + '|' + ' '*9 + '|' + ' '*9 + '|')\n",
    "    print('|' + ' '*9 + '|' + ' '*9 + '|' + ' '*9 + '|' + ' '*9 + '|')\n",
    "    print('|' + ' '*9 + '|' + ' '*9 + '|' + ' '*9 + '|' + ' '*9 + '|')\n",
    "    print('+ ' + '- ' * 4 + '+ ' + '- ' * 4 + '+ ' + '- ' * 4 + '+ ' + '- ' * 4 + '+')\n",
    "    \n",
    ">>> \n",
    ">>> window2()\n",
    "+ - - - - + - - - - + - - - - + - - - - +\n",
    "|         |         |         |         |\n",
    "|         |         |         |         |\n",
    "|         |         |         |         |\n",
    "|         |         |         |         |\n",
    "+ - - - - + - - - - + - - - - + - - - - +\n",
    "|         |         |         |         |\n",
    "|         |         |         |         |\n",
    "|         |         |         |         |\n",
    "|         |         |         |         |\n",
    "+ - - - - + - - - - + - - - - + - - - - +\n",
    "|         |         |         |         |\n",
    "|         |         |         |         |\n",
    "|         |         |         |         |\n",
    "|         |         |         |         |\n",
    "+ - - - - + - - - - + - - - - + - - - - +\n",
    "|         |         |         |         |\n",
    "|         |         |         |         |\n",
    "|         |         |         |         |\n",
    "|         |         |         |         |\n",
    "+ - - - - + - - - - + - - - - + - - - - +\n",
    ">>> \n"
   ]
  },
  {
   "cell_type": "markdown",
   "metadata": {},
   "source": [
    "## Chapter 5.1 - 5.7"
   ]
  },
  {
   "cell_type": "markdown",
   "metadata": {},
   "source": [
    "### Exercise 2\n",
    "\n",
    "Fermat’s Last Theorem says that there are no positive integers $a$, $b$, and $c$ such that $$a^n + b^n = c^n$$ for any values of $n$ greater than 2.\n",
    "\n",
    "1\\. Write a function named `check_fermat` that takes four parameters – $a$, $b$, $c$ and $n$ – and that checks to see if Fermat’s theorem holds. If n is greater than 2 and it turns out to be true that\n",
    "$$a^n + b^n = c^n$$ the program should print, \"Holy smokes, Fermat was wrong!\" Otherwise the program should print, \"No, that doesn’t work.\""
   ]
  },
  {
   "cell_type": "code",
   "execution_count": null,
   "metadata": {
    "collapsed": true
   },
   "outputs": [],
   "source": [
    "def check_fermat(a, b, c, n):\n",
    "    if a^n + b ^n == c^n:\n",
    "        print(\"Holy smokes, Fermat was wrong!\")\n",
    "    else:\n",
    "        print(\"No, that doesn't work.\")\n",
    "\n",
    ">>> check_fermat(3, 4, 5, 2)\n",
    "Holy smokes, Fermat was wrong!\n",
    ">>> check_fermat(5,19,8,7)\n",
    "No, that doesn't work.\n",
    ">>> "
   ]
  },
  {
   "cell_type": "markdown",
   "metadata": {},
   "source": [
    "2\\. Write a function that prompts the user to input values for $a$, $b$, $c$ and $n$, converts them to integers, and uses `check_fermat` to check whether they violate Fermat’s theorem."
   ]
  },
  {
   "cell_type": "code",
   "execution_count": null,
   "metadata": {
    "collapsed": true
   },
   "outputs": [],
   "source": [
    "def ints_fermat(a, b, c, n):\n",
    "    a1 = int(a)\n",
    "    b1 = int(b)\n",
    "    c1 = int(c)\n",
    "    n1 = int(n)\n",
    "    check_fermat(a1, b1, c1 , n1)\n",
    "    \n",
    ">>> ints_fermat(2.8, 4.69904, 922, 51.11)\n",
    "No, that doesn't work.\n",
    ">>> ints_fermat(3.444444, 4.9, 5.389384, 2.993939)\n",
    "Holy smokes, Fermat was wrong!\n",
    ">>> \n",
    "\n"
   ]
  },
  {
   "cell_type": "markdown",
   "metadata": {},
   "source": [
    "### Exercise 4  \n",
    "\n",
    "If you are given three sticks, you may or may not be able to arrange them in a triangle. For example, if one of the sticks is 12 inches long and the other two are one inch long, it is clear that you will not be able to get the short sticks to meet in the middle. For any three lengths, there is a simple test to see if it is possible to form a triangle:\n",
    "> If any of the three lengths is greater than the sum of the other two, then you cannot form a triangle. Otherwise, you can. (If the sum of two lengths equals the third, they form what is called a “degenerate” triangle.)\n",
    "\n",
    "1\\. Write a function named `is_triangle` that takes three integers as arguments, and that prints either \"Yes\" or \"No,\" depending on whether you can or cannot form a triangle from sticks with the given lengths."
   ]
  },
  {
   "cell_type": "code",
   "execution_count": null,
   "metadata": {
    "collapsed": true
   },
   "outputs": [],
   "source": [
    "def is_triangle(a, b, c):\n",
    "    if a + b > c and a + c > b and b + c > a:\n",
    "        print('Yes')\n",
    "    else:\n",
    "        print('No')\n",
    "\n",
    ">>> is_triangle(7,8,9)\n",
    "Yes\n",
    ">>> is_triangle(50, 2, 4)\n",
    "No\n",
    ">>> "
   ]
  },
  {
   "cell_type": "markdown",
   "metadata": {},
   "source": [
    "2\\. Write a function that prompts the user to input three stick lengths, converts them to integers, and uses `is_triangle` to check whether sticks with the given lengths can form a triangle."
   ]
  },
  {
   "cell_type": "code",
   "execution_count": null,
   "metadata": {
    "collapsed": true
   },
   "outputs": [],
   "source": [
    "def triangle_ints(a, b, c):\n",
    "    a1 = int(a)\n",
    "    b1 = int(b)\n",
    "    c1 = int(c)\n",
    "    is_triangle(a1, b1, c1)\n",
    "    \n",
    ">>> triangle_ints(7.9,5.0, 11.229929)\n",
    "Yes\n",
    ">>> "
   ]
  },
  {
   "cell_type": "markdown",
   "metadata": {},
   "source": [
    "## Quick poll\n",
    "About how long did you spend working on this Reading Journal?"
   ]
  },
  {
   "cell_type": "markdown",
   "metadata": {},
   "source": [
    "1 hour 15 mins"
   ]
  },
  {
   "cell_type": "markdown",
   "metadata": {},
   "source": [
    "## Notes for the Instructors\n",
    "\n",
    "Please use the space below to write comments to help us plan the next class session.  For instance, if you want to see us go over an example of a particular type of problem, you can indicate that here.\n",
    "\n",
    "Please remember that the best way to get quick feedback from the instructors as well as your peers, is to use Piazza.  However, consider using this channel if it doesn't make sense to post your note to Piazza."
   ]
  },
  {
   "cell_type": "markdown",
   "metadata": {},
   "source": [
    "I have used python previously so this reading was rather easy for me. However, in the future when I am less familiar with the material it may be helpful to include notes on syntax if it is not obvious."
   ]
  }
 ],
 "metadata": {
  "kernelspec": {
   "display_name": "Python 3",
   "language": "python",
   "name": "python3"
  },
  "language_info": {
   "codemirror_mode": {
    "name": "ipython",
    "version": 3
   },
   "file_extension": ".py",
   "mimetype": "text/x-python",
   "name": "python",
   "nbconvert_exporter": "python",
   "pygments_lexer": "ipython3",
   "version": "3.4.3"
  }
 },
 "nbformat": 4,
 "nbformat_minor": 0
}
