{
 "cells": [
  {
   "cell_type": "markdown",
   "metadata": {},
   "source": [
    "# Day 7 Reading Journal\n",
    "\n",
    "This journal includes several required exercises, but it is meant to encourage active reading more generally.  You should use the journal to take detailed notes, catalog questions, and explore the content from Think Python deeply.\n",
    "\n",
    "Reading: Think Python Chapter 11, 12\n",
    "\n",
    "**Due: Monday, February 13 at 12 noon**\n",
    "\n"
   ]
  },
  {
   "cell_type": "markdown",
   "metadata": {},
   "source": [
    "## [Chapter 11](http://www.greenteapress.com/thinkpython/html/thinkpython012.html)\n"
   ]
  },
  {
   "cell_type": "markdown",
   "metadata": {},
   "source": [
    "**Quick check:** In about one sentence using your own words, what is a dictionary?\n",
    "\n",
    "creating new dictionary\n",
    "eng2sp = dict()\n",
    "\n",
    "input:\n",
    "eng2sp['one'] = 'uno'\n",
    "\n",
    "print:\n",
    "eng2sp\n",
    "\n",
    "in determines if something is a key"
   ]
  },
  {
   "cell_type": "markdown",
   "metadata": {},
   "source": [
    "Dictionary is a list but with indices that can be anything, called keys"
   ]
  },
  {
   "cell_type": "markdown",
   "metadata": {},
   "source": [
    " "
   ]
  },
  {
   "cell_type": "markdown",
   "metadata": {
    "is_question": true,
    "problem": "Exercise 11.2"
   },
   "source": [
    "### Exercise 11.2  \n",
    "\n",
    "Dictionaries have a method called [`get`](https://docs.python.org/3/library/stdtypes.html#mapping-types-dict) that takes a key and a default value. If the key appears in the dictionary, `get` returns the corresponding value; otherwise it returns the default value. For example:\n",
    "\n",
    "```\n",
    ">>> h = histogram('a')\n",
    ">>> print h\n",
    "{'a': 1}\n",
    ">>> h.get('a', 0)\n",
    "1\n",
    ">>> h.get('b', 0)\n",
    "0\n",
    "```\n",
    "\n",
    "Use `get` to write `histogram` more concisely. You should be able to eliminate the `if` statement. Add unit tests for your histogram implementation."
   ]
  },
  {
   "cell_type": "code",
   "execution_count": 4,
   "metadata": {
    "collapsed": false,
    "solution": "Exercise 11.2"
   },
   "outputs": [
    {
     "name": "stdout",
     "output_type": "stream",
     "text": [
      "{'l': 2, 'o': 1, 'e': 1, 'h': 1}\n",
      "{'a': 4}\n"
     ]
    }
   ],
   "source": [
    "def histogram(s):\n",
    "    d = dict()\n",
    "    for c in s:\n",
    "        d[c] = d.get(c, 0) + 1\n",
    "    return d\n",
    "\n",
    "print(histogram('hello'))\n",
    "print(histogram('aaaa'))"
   ]
  },
  {
   "cell_type": "markdown",
   "metadata": {},
   "source": [
    " "
   ]
  },
  {
   "cell_type": "markdown",
   "metadata": {
    "is_question": true,
    "problem": "Exercise 11.4"
   },
   "source": [
    "### Exercise 11.4  \n",
    "\n",
    "Modify `reverse_lookup` so that it builds and returns a list of all keys that map to `v`, or an empty list if there are none. Add unit tests for your implementation.\n",
    "\n",
    "sorted() sorts your dictionary\n",
    "raise cases raise and exception"
   ]
  },
  {
   "cell_type": "code",
   "execution_count": 18,
   "metadata": {
    "collapsed": false,
    "solution": "Exercise 11.4"
   },
   "outputs": [
    {
     "name": "stdout",
     "output_type": "stream",
     "text": [
      "{'two': 'dos', '2': 'dos', 'one': 'uno'}\n",
      "['two', '2']\n"
     ]
    }
   ],
   "source": [
    "def reverse_lookup(d, v):\n",
    "    keys = []\n",
    "    for k in d:\n",
    "        if d[k] == v:\n",
    "            keys.append(k)\n",
    "    return keys\n",
    "\n",
    "eng2sp = {'one':'uno', 'two':'dos', '2':'dos'}\n",
    "print(eng2sp)\n",
    "print(reverse_lookup(eng2sp, 'dos'))"
   ]
  },
  {
   "cell_type": "markdown",
   "metadata": {},
   "source": [
    "If you'd like to learn more about errors and exceptions, you can check out the [Python tutorial](https://docs.python.org/3/tutorial/errors.html) or read ahead to [Appendix A](http://www.greenteapress.com/thinkpython2/html/thinkpython2021.html) of Think Python. If you choose to use doctest for your unit testing, it can also [deal with exceptions](https://docs.python.org/3/library/doctest.html#what-about-exceptions)."
   ]
  },
  {
   "cell_type": "markdown",
   "metadata": {},
   "source": [
    " "
   ]
  },
  {
   "cell_type": "markdown",
   "metadata": {},
   "source": [
    "**Quick check** What type of objects can be used as keys to a dictionary, i.e. what property must they have?"
   ]
  },
  {
   "cell_type": "markdown",
   "metadata": {},
   "source": [
    "keys have to be hashable, keys must be immutable"
   ]
  },
  {
   "cell_type": "markdown",
   "metadata": {},
   "source": [
    " "
   ]
  },
  {
   "cell_type": "markdown",
   "metadata": {
    "is_question": true,
    "problem": "Exercise 11.6"
   },
   "source": [
    "### Exercise 11.6 (modified)\n",
    "\n",
    "Create a memoized version of your Levenshtein distance function from Day 7. What kind of performance change do you see?\n",
    "\n",
    "Optional: If you'd like to get some quantitative results, you could check out the [timeit](https://docs.python.org/3/library/timeit.html) module\n",
    "\n",
    "Note: You can also study Fibonacci here if you prefer."
   ]
  },
  {
   "cell_type": "code",
   "execution_count": 7,
   "metadata": {
    "collapsed": false,
    "solution": "Exercise 11.6"
   },
   "outputs": [
    {
     "name": "stdout",
     "output_type": "stream",
     "text": [
      "1\n",
      "4\n"
     ]
    }
   ],
   "source": [
    "known = {}\n",
    "def lev_distance(a, b):\n",
    "    k = a + b\n",
    "    if k in known:\n",
    "        return known[k]\n",
    "    \n",
    "    cost = 0\n",
    "    alen = len(a)\n",
    "    blen = len(b)\n",
    "    \n",
    "    if alen == 0:\n",
    "        return blen\n",
    "    elif blen == 0:\n",
    "        return alen\n",
    "    elif a[-1] == b[-1]:\n",
    "        cost = 0\n",
    "    else:\n",
    "        cost = 1\n",
    "    \n",
    "    res = min(lev_distance(a[:alen-1], b)+1, lev_distance(a, b[:blen-1])+1, lev_distance(a[:alen-1], b[:blen-1])+cost)\n",
    "    known[k] = res\n",
    "    return res\n",
    "\n",
    "print(lev_distance('frat', 'brat'))\n",
    "print(lev_distance('f', 'brat'))\n",
    "               "
   ]
  },
  {
   "cell_type": "markdown",
   "metadata": {},
   "source": [
    "You can not edit global variables that are immutable inside functions unless you declare it with global \n",
    "mutable can be edited"
   ]
  },
  {
   "cell_type": "markdown",
   "metadata": {},
   "source": [
    "## [Chapter 12](http://www.greenteapress.com/thinkpython2/html/thinkpython2013.html)\n",
    "\n",
    "**Quick check:** In about one sentence using your own words, what is a tuple?"
   ]
  },
  {
   "cell_type": "markdown",
   "metadata": {},
   "source": [
    "An immutable data stucture of values"
   ]
  },
  {
   "cell_type": "markdown",
   "metadata": {},
   "source": [
    " "
   ]
  },
  {
   "cell_type": "markdown",
   "metadata": {
    "is_question": true,
    "problem": "Exercise 12.1"
   },
   "source": [
    "### Chapter 12.4  \n",
    "\n",
    "- replacing things in tuples:\n",
    "t = ('A',) + t[1:]\n",
    "t\n",
    "('A', 'b', 'c')\n",
    "\n",
    "- relational operators work, finding elements that differ\n",
    "- assigning things to things\n",
    "a, b = b, a\n",
    "addr = 'nina@gmail.com'\n",
    "uname, domain = addr.split('@')\n",
    "- '*args' allows for any amount of inputs\n",
    "-  '*' will also scatter things\n",
    "\n",
    "\n",
    "Many of the built-in functions use variable-length argument tuples. For example, `max` and `min` can take any number of arguments:\n",
    "\n",
    "```\n",
    ">>> max(1,2,3)\n",
    "3\n",
    "```\n",
    "\n",
    "But `sum` does not.\n",
    "\n",
    "```\n",
    ">>> sum(1,2,3)\n",
    "TypeError: sum expected at most 2 arguments, got 3\n",
    "```\n",
    "\n",
    "Write a function called ```sumall``` that takes any number of arguments and returns their sum. \n",
    "\n",
    "Write unit tests for your function. Do I actually need to keep saying this? Let's assume it's always a good idea :)"
   ]
  },
  {
   "cell_type": "code",
   "execution_count": 9,
   "metadata": {
    "collapsed": false,
    "solution": "Exercise 12.1"
   },
   "outputs": [
    {
     "name": "stdout",
     "output_type": "stream",
     "text": [
      "6\n"
     ]
    }
   ],
   "source": [
    "def sumall(*args):\n",
    "    sum = 0\n",
    "    for n in args:\n",
    "        sum += n\n",
    "    return sum\n",
    "\n",
    "print(sumall(1, 2, 3))"
   ]
  },
  {
   "cell_type": "markdown",
   "metadata": {},
   "source": [
    "If you're interested in more flexible ways to pass arguments to functions, check out the [Python tutorial](https://docs.python.org/3/tutorial/controlflow.html#more-on-defining-functions). For instance, you can also use keyword arguments, which are collected into a dictionary just like `*` gathers variable numbers of positional arguments into a tuple.\n",
    "\n",
    "This pattern is very common for defining functions with complex optional behaviors in Python, and you will often see definitions like:\n",
    "\n",
    "```\n",
    "def my_func(required_argument1, *arguments, **keywords):\n",
    "    ...\n",
    "```"
   ]
  },
  {
   "cell_type": "markdown",
   "metadata": {},
   "source": [
    " "
   ]
  },
  {
   "cell_type": "markdown",
   "metadata": {
    "is_question": true,
    "problem": "Exercise 12 sort"
   },
   "source": [
    "### Exercise\n",
    "\n",
    "Write a function `sort_by_last_letter` that takes a list of words and returns a new list with the words sorted alphabetically by the _last letter_ in the word. Hint: use the **Decorate, Sort, Undecorate** pattern. Write unit tests for your function."
   ]
  },
  {
   "cell_type": "code",
   "execution_count": 16,
   "metadata": {
    "collapsed": false,
    "solution": "Exercise 12 sort"
   },
   "outputs": [
    {
     "name": "stdout",
     "output_type": "stream",
     "text": [
      "['friend', 'there', 'hey']\n"
     ]
    }
   ],
   "source": [
    "def sort_by_last_letter(*args):\n",
    "    cList = []\n",
    "    wordList = []\n",
    "    for w in args:\n",
    "        c, word = w[-1], w\n",
    "        cList.append(c)\n",
    "        wordList.append(w)\n",
    "    sortList = list(zip(cList, wordList))\n",
    "    sortList.sort()\n",
    "    res = []\n",
    "    for i in sortList:\n",
    "        res.append(i[1])\n",
    "    return res\n",
    "print(sort_by_last_letter('hey', 'there', 'friend'))"
   ]
  },
  {
   "cell_type": "markdown",
   "metadata": {},
   "source": [
    " "
   ]
  },
  {
   "cell_type": "markdown",
   "metadata": {},
   "source": [
    "**Quick check** Give an example of when you might use each sequence type:\n",
    "\n",
    "- tuple\n",
    "\n",
    "- list\n",
    "\n",
    "- string"
   ]
  },
  {
   "cell_type": "markdown",
   "metadata": {},
   "source": [
    "tuple when you want an immutable list\n",
    "list when you want a mutable list\n",
    "string when you want an immutable list of characters"
   ]
  },
  {
   "cell_type": "markdown",
   "metadata": {},
   "source": [
    " "
   ]
  },
  {
   "cell_type": "markdown",
   "metadata": {
    "is_question": true,
    "problem": "Exercise 12.3"
   },
   "source": [
    "### Exercise 12.1 \n",
    "\n",
    "Write a function called `most_frequent` that takes a string and prints the letters in decreasing order of frequency. Find text samples from several different languages and see how letter frequency varies between languages. Compare your results with the tables at http://en.wikipedia.org/wiki/Letter_frequencies. \n",
    "\n",
    "Allen's solution (try it on your own first): http://greenteapress.com/thinkpython2/code/most_frequent.py. "
   ]
  },
  {
   "cell_type": "code",
   "execution_count": 23,
   "metadata": {
    "collapsed": false,
    "solution": "Exercise 12.3"
   },
   "outputs": [
    {
     "name": "stdout",
     "output_type": "stream",
     "text": [
      " \n",
      "e\n",
      "t\n",
      "o\n",
      "n\n",
      "a\n",
      "i\n",
      "s\n",
      "r\n",
      "h\n",
      "m\n",
      "l\n",
      "d\n",
      "c\n",
      "y\n",
      "p\n",
      "u\n",
      "w\n",
      "g\n",
      "f\n",
      ",\n",
      "b\n",
      ".\n",
      "v\n",
      "k\n",
      "x\n",
      "j\n",
      "-\n",
      "’\n",
      "z\n",
      "4\n",
      "”\n",
      "“\n",
      "q\n",
      "3\n",
      "1\n",
      "!\n"
     ]
    }
   ],
   "source": [
    "def most_frequent(s):\n",
    "    s = s.lower()\n",
    "    d = dict()\n",
    "    for c in s:\n",
    "        d[c] = d.get(c, 0) + 1\n",
    "    tList = []\n",
    "    for c in d:\n",
    "        tList.append((d[c], c))\n",
    "    tList.sort()\n",
    "    tList.reverse()\n",
    "    for t in tList:\n",
    "        print(t[1])\n",
    "        \n",
    "\n",
    "most_frequent('Almost every child who grows up in New England has the tear-inducing memory of the day their parents dragged them into the lethargic world of cross country skiing. I am no exception, starting from when I was five, I had plenty of these days. Slowly, however, these nordic expeditions became more thrilling. By the time I was nine, I could conquer almost any cross-country trail, making what used to seem like torture, one of my favorite pastimes in the winter.Unfortunately, hardly any of my peers shared my excitement for cross country skiing. Freshmen fall, I was elated to learn that my school had a cross country ski team. Despite being one of only two freshmen in the group, I had one of the best winters of my life. Interspersing skiing with my studies proved to be an antidote to the New England “winter blues”. Everyone on my twenty person coed team shared my passion, even though many of them had not stood on skis before the season started. The next year, I convinced a few of my friends of the lifelong benefits coming from joining the Nordic ski team. My small recruitment experiment proved successful, we all had a blast and I was named captain for the following season.I felt I had a bigger role than just managing the team with my co-captain. Hardly anyone in the school knew our team even existed and we only had thirteen returning members because the rest had graduated. Therefore, starting in September of junior year, I made recruitment our main priority. For open house night at my school, I baked brownies and made a poster to coax people to talk to me. Once I lured them in, I dispensed my elevator pitch about cross country skiing and encouraged them to sign-up for an informational letter. I considered that night successful, hoping that at least a few people of the dozens who gave me emails were actually interested in joining. The next step in my plan was hanging obnoxiously attention-grabbing posters inviting students to a sign-up meeting. I took this step to the extreme by depositing these posters everywhere, even inside bathroom stalls, to ensure that everyone would see them. The final plea for attention of the student body was a short slot in the morning announcements that spewed the benefits of joining the team.Finally, in late October I was able to see the success of my recruitment efforts at the sign-up meeting. That afternoon, I had to contain my screams, my coach’s small physics classroom was so packed with prospects that they were spilling into the lab behind the room! Ultimately, we had 44 people commit to the team, 31 of which were new. The best part of the team’s over one hundred percent expansion was that it was composed of mainly underclassmen, meaning that the team had a foundation to grow upon for years. It was not easy managing my huge new team. Making sure everyone was prepared to race, had a carpool and was dressed appropriately for that winter’s snowpocalypse was a significant challenge. Yet, I was jubilant that my love for the sport could pass on to so many people.As my teammates run up to me in the halls exclaiming that they can’t wait for the season to start, I know their excitement is only comparable to how proud I am of what our team has become. Due to the ski team’s size and enthusiasm, the student body actually recognizes that we exist. I am overjoyed that I can leave my high school with the legacy of introducing so many people to a sport they can pursue for the rest of their lives. In life, I know that I will continue to try to impact people’s lives in such a positive way, whether it is with skiing or another one of my passions, discoveries or creations.')"
   ]
  },
  {
   "cell_type": "markdown",
   "metadata": {},
   "source": [
    "My common app essay has letter frequencies similar to wikipedia! "
   ]
  },
  {
   "cell_type": "markdown",
   "metadata": {
    "is_question": true,
    "problem": "Exercise 12.6"
   },
   "source": [
    "### Challenge: Exercise 12.4   (optional)\n",
    "\n",
    "From a [Car Talk Puzzler](http://www.cartalk.com/content/puzzlers):\n",
    "\n",
    "What is the longest English word, that remains a valid English word, as you remove its letters one at a time?\n",
    "\n",
    "Now, letters can be removed from either end, or the middle, but you can’t rearrange any of the letters. Every time you drop a letter, you wind up with another English word. If you do that, you’re eventually going to wind up with one letter and that too is going to be an English word—one that’s found in the dictionary. I want to know what’s the longest word and how many letters does it have?\n",
    "\n",
    "I’m going to give you a little modest example: Sprite. Ok? You start off with sprite, you take a letter off, one from the interior of the word, take the r away, and we’re left with the word spite, then we take the e off the end, we’re left with spit, we take the s off, we’re left with pit, it, and I. \n",
    "\n",
    "Write a program to find all words that can be reduced in this way, and then find the longest one.\n",
    "\n",
    "This exercise is a little more challenging than most, so here are some suggestions:\n",
    "\n",
    "- You might want to write a function that takes a word and computes a list of all the words that can be formed by removing one letter. These are the “children” of the word.\n",
    "- Recursively, a word is reducible if any of its children are reducible. As a base case, you can consider the empty string reducible.\n",
    "- The word list from [Chapter 9.1](http://www.greenteapress.com/thinkpython2/html/thinkpython2010.html) Exercise 1 doesn’t contain single letter words. So you might want to add “I”, “a”, and the empty string.\n",
    "- To improve the performance of your program, you might want to memoize the words that are known to be reducible.\n",
    "\n",
    "Allen's solution: http://greenteapress.com/thinkpython2/code/reducible.py."
   ]
  },
  {
   "cell_type": "code",
   "execution_count": null,
   "metadata": {
    "collapsed": true,
    "solution": "Exercise 12.6"
   },
   "outputs": [],
   "source": []
  },
  {
   "cell_type": "markdown",
   "metadata": {},
   "source": [
    " "
   ]
  },
  {
   "cell_type": "markdown",
   "metadata": {
    "is_question": true,
    "problem": "Feedback"
   },
   "source": [
    "## Reading Journal feedback\n",
    "\n",
    "[Please complete this short survey](https://docs.google.com/forms/d/e/1FAIpQLScQekhUrf6YYjpfQiAAbavLIA-IJklv_PX1BWbGgxj7JPolmw/viewform?c=0&w=1)\n",
    "\n",
    "If you have any comments on this Reading Journal, feel free to leave them in the survey linked above. This could include suggestions to improve the exercises, topics you'd like to see covered in class next time, or other feedback.\n",
    "\n",
    "If you have Python questions or run into problems while completing the reading, you should post them to Piazza instead so you can get a quick response before your journal is submitted."
   ]
  },
  {
   "cell_type": "markdown",
   "metadata": {
    "feedback_response": true,
    "solution": "Feedback"
   },
   "source": [
    " "
   ]
  }
 ],
 "metadata": {
  "kernelspec": {
   "display_name": "Python 3",
   "language": "python",
   "name": "python3"
  },
  "language_info": {
   "codemirror_mode": {
    "name": "ipython",
    "version": 3
   },
   "file_extension": ".py",
   "mimetype": "text/x-python",
   "name": "python",
   "nbconvert_exporter": "python",
   "pygments_lexer": "ipython3",
   "version": "3.4.3"
  }
 },
 "nbformat": 4,
 "nbformat_minor": 0
}
