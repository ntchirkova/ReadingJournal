{
 "cells": [
  {
   "cell_type": "markdown",
   "metadata": {},
   "source": [
    "# Day 10 Reading Journal\n",
    "\n",
    "This journal includes several required exercises, but it is meant to encourage active reading more generally.  You should use the journal to take detailed notes, catalog questions, and explore the content from Think Python deeply.\n",
    "\n",
    "Reading: Review Think Python Chapters 15-17\n",
    "\n",
    "**Due: Thursday, February 23 at 12 noon**\n",
    "\n"
   ]
  },
  {
   "cell_type": "markdown",
   "metadata": {},
   "source": [
    "## [Chapter 15](http://www.greenteapress.com/thinkpython2/html/thinkpython2016.html), [Chapter 16](http://www.greenteapress.com/thinkpython2/html/thinkpython2017.html), [Chapter 17](http://www.greenteapress.com/thinkpython2/html/thinkpython2018.html)\n",
    "\n",
    "\n",
    "By the end of chapter 17, we have all the tools we need to create our own user-defined types known as classes. In this reading journal, we're asking you to review and solidify your understanding of this material so we can build on it for the rest of the course. \n",
    "\n",
    "If you didn't get a chance to fully complete the Day 9 reading journal, you may want to do so now."
   ]
  },
  {
   "cell_type": "markdown",
   "metadata": {
    "problem": "Terminology"
   },
   "source": [
    "### Terminology\n",
    "\n",
    "You should be familiar with the following list of terms and concepts. If any of them are unclear to you, re-read, ask, write a definition in your own words, and try an example if appropriate.\n",
    "\n",
    " - class\n",
    " - object\n",
    " - instance\n",
    " - attribute\n",
    " - method\n",
    " - shallow vs deep copying\n",
    " - pure functions vs modifiers\n",
    " - initializing object instances\n",
    " "
   ]
  },
  {
   "cell_type": "markdown",
   "metadata": {
    "is_question": true,
    "problem": "Exercise 1"
   },
   "source": [
    "### Exercise\n",
    "\n",
    "We're going to take the first steps toward writing a calendar application. To keep things simple, we'll restrict ourselves to a single day for now. Write an `Event` class with the following attributes:\n",
    "\n",
    " - `name`  : Title for the `Event`\n",
    " - `start` : `Time` object representing the start time for the `Event`\n",
    " - `end`   : `Time` object representing the end time for the `Event`\n",
    "\n",
    "You can also augment your `Event` class with additional attributes, such as location and attendees.\n",
    "\n",
    "Write `__init__` and `__str__` methods for your `Event` class."
   ]
  },
  {
   "cell_type": "code",
   "execution_count": 34,
   "metadata": {
    "collapsed": false,
    "solution": "Exercise 1"
   },
   "outputs": [
    {
     "name": "stdout",
     "output_type": "stream",
     "text": [
      "Party starts at: 04:30and ends at: 06:20\n"
     ]
    }
   ],
   "source": [
    "class Time:\n",
    "    \"\"\"Represents time of day in military time\n",
    "    attributes: hour, minute, second\"\"\"\n",
    "    \n",
    "    def __init__(self, hours, mins):\n",
    "        self.hours = hours\n",
    "        self.mins = mins\n",
    "        \n",
    "    def __str__(self):\n",
    "        if self.hours < 10:\n",
    "            hr = '0' + str(self.hours)\n",
    "        else:\n",
    "            hr = str(self.hours)\n",
    "        if self.mins < 10:\n",
    "            mn = '0' + str(self.mins)\n",
    "        else:\n",
    "            mn = str(self.mins)\n",
    "        return hr + ':' + mn\n",
    "    \n",
    "    def is_before(self, time):\n",
    "        if time.hours - self.hours > 0 or time.hours - self.hours == 0 and time.mins - self.mins:\n",
    "            return True\n",
    "        else:\n",
    "            return False\n",
    "    \n",
    "class Event:\n",
    "    \"\"\"object that represents an event\n",
    "    attributes: name, start, end\"\"\"\n",
    "    \n",
    "    def __init__(self, name, start, end):\n",
    "        self.name = name\n",
    "        self.start = start\n",
    "        self.end = end\n",
    "    \n",
    "    def __str__(self):\n",
    "        return self.name + \" starts at: \" + str(self.start) + \"and ends at: \" + str(self.end)\n",
    "\n",
    "partystart = Time(4, 30)\n",
    "partyend = Time(6, 20)\n",
    "\n",
    "party = Event (\"Party\", partystart, partyend)\n",
    "print(party)\n",
    "        "
   ]
  },
  {
   "cell_type": "markdown",
   "metadata": {
    "is_question": true,
    "problem": "Exercise 2"
   },
   "source": [
    "### Exercise\n",
    "\n",
    "Write a `duration` method that returns the duration of the `Event` in minutes."
   ]
  },
  {
   "cell_type": "code",
   "execution_count": 23,
   "metadata": {
    "collapsed": false,
    "solution": "Exercise 2"
   },
   "outputs": [
    {
     "data": {
      "text/plain": [
       "'01:50'"
      ]
     },
     "execution_count": 23,
     "metadata": {},
     "output_type": "execute_result"
    }
   ],
   "source": [
    "def duration(event):\n",
    "    mins =''\n",
    "    hrs = ''\n",
    "    mindif = event.end.mins - event.start.mins\n",
    "    hrdif = event.end.hours - event.start.hours\n",
    "    if mindif >= 0:\n",
    "        if mindif < 10:\n",
    "            mins = '0' + str(mindif)\n",
    "        else:\n",
    "            mins = str(mindif)\n",
    "    else:\n",
    "        mindif = 60 + mindif\n",
    "        hrdif = hrdif - 1\n",
    "        if mindif < 10:\n",
    "            mins = '0' + str(mindif)\n",
    "        else:\n",
    "            mins = str(mindif)\n",
    "    if hrdif < 10:\n",
    "        hrs = '0' + str(hrdif)\n",
    "    else:\n",
    "        hrs = str(hrdif)\n",
    "    return hrs + ':' + mins\n",
    "\n",
    "duration(party)"
   ]
  },
  {
   "cell_type": "markdown",
   "metadata": {
    "is_question": true,
    "problem": "Exercise 3"
   },
   "source": [
    "### Exercise\n",
    "\n",
    "Write an `Agenda` class that contains several `Event`s for the day.\n",
    "\n",
    "**Quick check: ** How should you store `Event`s within your `Agenda` class?\n"
   ]
  },
  {
   "cell_type": "markdown",
   "metadata": {},
   "source": []
  },
  {
   "cell_type": "markdown",
   "metadata": {},
   "source": [
    " "
   ]
  },
  {
   "cell_type": "markdown",
   "metadata": {},
   "source": [
    "Your `Agenda` class should include a `print_agenda` method that prints out your schedule for the day, in order.\n",
    "\n",
    "**Optional:** Include a `is_feasible` method that returns `True` if your schedule has no time conflicts. You may want to write additional helper methods for the `Event` class to make this easier."
   ]
  },
  {
   "cell_type": "code",
   "execution_count": 35,
   "metadata": {
    "collapsed": false,
    "solution": "Exercise 3"
   },
   "outputs": [
    {
     "name": "stdout",
     "output_type": "stream",
     "text": [
      "True\n",
      "False\n",
      "Schedule\n",
      "math starts at: 09:30and ends at: 10:20\n",
      "gathering starts at: 10:30and ends at: 11:20\n",
      "tennis starts at: 11:05and ends at: 12:30\n",
      "math starts at: 09:30and ends at: 10:20\n",
      "gathering starts at: 10:30and ends at: 11:20\n"
     ]
    }
   ],
   "source": [
    "class Agenda:\n",
    "    \"\"\" Agenda of events, in order\n",
    "    attributes: list of events\"\"\"\n",
    "    \n",
    "    def __init__(self):\n",
    "        self.contents = []\n",
    "    \n",
    "    def add_event(self, event):\n",
    "        for e in self.contents:\n",
    "            if event.start.is_before(e.start):\n",
    "                self.contents.insert(self.contents.index(e), event)\n",
    "                break\n",
    "        self.contents.append(event)\n",
    "                \n",
    "        \n",
    "    def is_feasible(self):\n",
    "        if len(self.contents) <= 1:\n",
    "            return True\n",
    "        else:\n",
    "            for i in range (len(self.contents) - 2):\n",
    "                if self.contents[i+1].start.hours - self.contents[i].end.hours > 0 or (self.contents[i+1].start.hours - self.contents[i].end.hours == 0) and (self.contents[i+1].start.mins - self.contents[i].end.mins >= 0):\n",
    "                    continue\n",
    "                else:\n",
    "                    return False\n",
    "            return True\n",
    "    def print_agenda(self):\n",
    "        print(\"Schedule\")\n",
    "        for e in self.contents:\n",
    "            print(e)\n",
    "cstart = Time(9, 30)\n",
    "cend = Time(10, 20)\n",
    "math = Event('math',cstart, cend)\n",
    "tstart = Time(11, 5)\n",
    "tend = Time(12, 30)\n",
    "tennis = Event('tennis',tstart, tend)\n",
    "planner = Agenda()\n",
    "planner.add_event(tennis)\n",
    "planner.add_event(math)\n",
    "print(planner.is_feasible())\n",
    "gstart = Time(10, 30)\n",
    "gend = Time(11,20)\n",
    "gathering = Event('gathering', gstart, gend)\n",
    "planner.add_event(gathering)\n",
    "print(planner.is_feasible())\n",
    "planner.print_agenda()"
   ]
  },
  {
   "cell_type": "markdown",
   "metadata": {
    "is_question": true,
    "problem": "Exercise 4"
   },
   "source": [
    "### Going Beyond (optional)\n",
    "\n",
    "Some ideas for taking your application further:\n",
    " - Add people and/or places to the mix to create a scheduling assistant\n",
    " - Extend support for day-of-week or full date. A word of warning: dealing with dates and times in real applications is difficult due to the huge number of special cases (Perfect example: this reading journal is due on Leap Day). Consider using something like the Python [datetime](https://docs.python.org/3/library/datetime.html) module.\n",
    " - Use pickle or some other persistence strategy to save and load your `Agenda`."
   ]
  },
  {
   "cell_type": "code",
   "execution_count": null,
   "metadata": {
    "collapsed": true,
    "solution": "Exercise 4"
   },
   "outputs": [],
   "source": []
  },
  {
   "cell_type": "markdown",
   "metadata": {
    "poll_response": true,
    "solution": "Time spent"
   },
   "source": [
    " "
   ]
  },
  {
   "cell_type": "markdown",
   "metadata": {
    "is_question": true,
    "problem": "Feedback"
   },
   "source": [
    "## Reading Journal feedback\n",
    "\n",
    "[Please complete this short survey](https://docs.google.com/forms/d/e/1FAIpQLScQekhUrf6YYjpfQiAAbavLIA-IJklv_PX1BWbGgxj7JPolmw/viewform?c=0&w=1)\n",
    "\n",
    "If you have any comments on this Reading Journal, feel free to leave them in the survey linked above. This could include suggestions to improve the exercises, topics you'd like to see covered in class next time, or other feedback.\n",
    "\n",
    "If you have Python questions or run into problems while completing the reading, you should post them to Piazza instead so you can get a quick response before your journal is submitted."
   ]
  },
  {
   "cell_type": "markdown",
   "metadata": {
    "feedback_response": true,
    "solution": "Feedback"
   },
   "source": [
    " "
   ]
  }
 ],
 "metadata": {
  "kernelspec": {
   "display_name": "Python 3",
   "language": "python",
   "name": "python3"
  },
  "language_info": {
   "codemirror_mode": {
    "name": "ipython",
    "version": 3
   },
   "file_extension": ".py",
   "mimetype": "text/x-python",
   "name": "python",
   "nbconvert_exporter": "python",
   "pygments_lexer": "ipython3",
   "version": "3.4.3"
  }
 },
 "nbformat": 4,
 "nbformat_minor": 0
}
